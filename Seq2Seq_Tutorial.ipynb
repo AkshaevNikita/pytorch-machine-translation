{
 "cells": [
  {
   "cell_type": "code",
   "execution_count": 1,
   "metadata": {},
   "outputs": [
    {
     "name": "stdout",
     "output_type": "stream",
     "text": [
      "--2023-03-31 14:03:18--  https://www.manythings.org/anki/rus-eng.zip\n",
      "Resolving www.manythings.org (www.manythings.org)... 173.254.30.110\n",
      "Connecting to www.manythings.org (www.manythings.org)|173.254.30.110|:443... connected.\n",
      "HTTP request sent, awaiting response... 200 OK\n",
      "Length: 15374406 (15M) [application/zip]\n",
      "Saving to: ‘rus-eng.zip’\n",
      "\n",
      "rus-eng.zip         100%[===================>]  14.66M  6.53MB/s    in 2.2s    \n",
      "\n",
      "2023-03-31 14:03:22 (6.53 MB/s) - ‘rus-eng.zip’ saved [15374406/15374406]\n",
      "\n",
      "Archive:  rus-eng.zip\n",
      "  inflating: rus.txt                 \n",
      "  inflating: _about.txt              \n"
     ]
    }
   ],
   "source": [
    "!wget https://www.manythings.org/anki/rus-eng.zip\n",
    "!unzip rus-eng.zip"
   ]
  },
  {
   "cell_type": "code",
   "execution_count": null,
   "metadata": {},
   "outputs": [],
   "source": []
  },
  {
   "cell_type": "code",
   "execution_count": 1,
   "metadata": {},
   "outputs": [],
   "source": [
    "import pytorch_lightning as pl\n",
    "from pytorch_lightning.loggers import TensorBoardLogger\n",
    "from pytorch_lightning.callbacks import ModelCheckpoint\n",
    "from pytorch_lightning.callbacks import LearningRateMonitor\n",
    "import sys, os\n",
    "\n",
    "sys.path.append(os.path.join(os.getcwd(), \"./src\"))\n",
    "\n",
    "from models.rnn import Seq2SeqRNN\n",
    "from data.datamodule import DataManager"
   ]
  },
  {
   "cell_type": "code",
   "execution_count": 2,
   "metadata": {},
   "outputs": [],
   "source": [
    "eng_prefixes = (\n",
    "    \"i am \",\n",
    "    \"i m \",\n",
    "    \"he is\",\n",
    "    \"he s \",\n",
    "    \"she is\",\n",
    "    \"she s \",\n",
    "    \"you are\",\n",
    "    \"you re \",\n",
    "    \"we are\",\n",
    "    \"we re \",\n",
    "    \"they are\",\n",
    "    \"they re \",\n",
    ")\n",
    "\n",
    "def filter_func(x):\n",
    "    len_filter = lambda x: max(len(x[0].split(\" \")), len(x[1].split(\" \"))) <= 5\n",
    "    prefix_filter = lambda x: x[0].startswith(eng_prefixes)\n",
    "    return len_filter(x) and prefix_filter(x)\n",
    "\n",
    "config = {\n",
    "    \"batch_size\": 256,          # <--- size of batch\n",
    "    \"num_workers\": 16,          # <--- num cpu to use in dataloader\n",
    "    \"filter\": filter_func,      # <--- callable obj to filter data  \n",
    "    \"filename\": \"./rus.txt\",    # <--- path to file with sentneces\n",
    "    \"lang1\": \"en\",              # <--- name of the first lang    \n",
    "    \"lang2\": \"ru\",              # <--- name of the second lang\n",
    "    \"reverse\": False,           # <--- direct or reverse order in pairs\n",
    "    \"train_size\": 0.8,          # <--- ratio of data pairs to use in train\n",
    "    \"run_name\": \"tutorial\",     # <--- run name to logger and checkpoints\n",
    "    \"quantile\": 0.95,           # <--- (1 - quantile) longest sentences will be removed\n",
    "}"
   ]
  },
  {
   "cell_type": "code",
   "execution_count": 3,
   "metadata": {},
   "outputs": [
    {
     "name": "stderr",
     "output_type": "stream",
     "text": [
      "Reading from file: 100%|█████████████████████████████████████████████████████████████████████████████████████████████████████████████████████████████████████████████████████████████████████| 464010/464010 [00:06<00:00, 72282.88it/s]\n"
     ]
    }
   ],
   "source": [
    "# Data manager\n",
    "dm = DataManager(config)\n",
    "dm.prepare_data()\n",
    "dm.setup()\n",
    "\n",
    "input_lang_n_words = dm.input_lang_n_words\n",
    "output_lang_n_words = dm.output_lang_n_words"
   ]
  },
  {
   "cell_type": "code",
   "execution_count": 4,
   "metadata": {},
   "outputs": [],
   "source": [
    "model = Seq2SeqRNN(\n",
    "    encoder_vocab_size=input_lang_n_words,\n",
    "    encoder_embedding_size=256,\n",
    "    decoder_embedding_size=256,\n",
    "    decoder_output_size=output_lang_n_words,\n",
    "    lr=1e-3,\n",
    "    output_lang_index2word=dm.train_dataset.output_lang.index2word,\n",
    ")"
   ]
  },
  {
   "cell_type": "code",
   "execution_count": 9,
   "metadata": {},
   "outputs": [
    {
     "name": "stdout",
     "output_type": "stream",
     "text": [
      "Help on class TensorBoardLogger in module pytorch_lightning.loggers.tensorboard:\n",
      "\n",
      "class TensorBoardLogger(pytorch_lightning.loggers.logger.Logger, lightning_fabric.loggers.tensorboard.TensorBoardLogger)\n",
      " |  TensorBoardLogger(save_dir: Union[str, pathlib.Path], name: Union[str, NoneType] = 'lightning_logs', version: Union[int, str, NoneType] = None, log_graph: bool = False, default_hp_metric: bool = True, prefix: str = '', sub_dir: Union[str, pathlib.Path, NoneType] = None, **kwargs: Any)\n",
      " |  \n",
      " |  Log to local file system in `TensorBoard <https://www.tensorflow.org/tensorboard>`_ format.\n",
      " |  \n",
      " |  Implemented using :class:`~tensorboardX.SummaryWriter`. Logs are saved to\n",
      " |  ``os.path.join(save_dir, name, version)``. This is the default logger in Lightning, it comes\n",
      " |  preinstalled.\n",
      " |  \n",
      " |  Example:\n",
      " |  \n",
      " |  .. testcode::\n",
      " |  \n",
      " |      from pytorch_lightning import Trainer\n",
      " |      from pytorch_lightning.loggers import TensorBoardLogger\n",
      " |  \n",
      " |      logger = TensorBoardLogger(\"tb_logs\", name=\"my_model\")\n",
      " |      trainer = Trainer(logger=logger)\n",
      " |  \n",
      " |  Args:\n",
      " |      save_dir: Save directory\n",
      " |      name: Experiment name. Defaults to ``'default'``. If it is the empty string then no per-experiment\n",
      " |          subdirectory is used.\n",
      " |      version: Experiment version. If version is not specified the logger inspects the save\n",
      " |          directory for existing versions, then automatically assigns the next available version.\n",
      " |          If it is a string then it is used as the run-specific subdirectory name,\n",
      " |          otherwise ``'version_${version}'`` is used.\n",
      " |      log_graph: Adds the computational graph to tensorboard. This requires that\n",
      " |          the user has defined the `self.example_input_array` attribute in their\n",
      " |          model.\n",
      " |      default_hp_metric: Enables a placeholder metric with key `hp_metric` when `log_hyperparams` is\n",
      " |          called without a metric (otherwise calls to log_hyperparams without a metric are ignored).\n",
      " |      prefix: A string to put at the beginning of metric keys.\n",
      " |      sub_dir: Sub-directory to group TensorBoard logs. If a sub_dir argument is passed\n",
      " |          then logs are saved in ``/save_dir/name/version/sub_dir/``. Defaults to ``None`` in which\n",
      " |          logs are saved in ``/save_dir/name/version/``.\n",
      " |      \\**kwargs: Additional arguments used by :class:`tensorboardX.SummaryWriter` can be passed as keyword\n",
      " |          arguments in this logger. To automatically flush to disk, `max_queue` sets the size\n",
      " |          of the queue for pending logs before flushing. `flush_secs` determines how many seconds\n",
      " |          elapses before flushing.\n",
      " |  \n",
      " |  Example:\n",
      " |      >>> import shutil, tempfile\n",
      " |      >>> tmp = tempfile.mkdtemp()\n",
      " |      >>> tbl = TensorBoardLogger(tmp)\n",
      " |      >>> tbl.log_hyperparams({\"epochs\": 5, \"optimizer\": \"Adam\"})\n",
      " |      >>> tbl.log_metrics({\"acc\": 0.75})\n",
      " |      >>> tbl.log_metrics({\"acc\": 0.9})\n",
      " |      >>> tbl.finalize(\"success\")\n",
      " |      >>> shutil.rmtree(tmp)\n",
      " |  \n",
      " |  Method resolution order:\n",
      " |      TensorBoardLogger\n",
      " |      pytorch_lightning.loggers.logger.Logger\n",
      " |      lightning_fabric.loggers.tensorboard.TensorBoardLogger\n",
      " |      lightning_fabric.loggers.logger.Logger\n",
      " |      abc.ABC\n",
      " |      builtins.object\n",
      " |  \n",
      " |  Methods defined here:\n",
      " |  \n",
      " |  __init__(self, save_dir: Union[str, pathlib.Path], name: Union[str, NoneType] = 'lightning_logs', version: Union[int, str, NoneType] = None, log_graph: bool = False, default_hp_metric: bool = True, prefix: str = '', sub_dir: Union[str, pathlib.Path, NoneType] = None, **kwargs: Any)\n",
      " |      Initialize self.  See help(type(self)) for accurate signature.\n",
      " |  \n",
      " |  after_save_checkpoint(self, checkpoint_callback: pytorch_lightning.callbacks.model_checkpoint.ModelCheckpoint) -> None\n",
      " |      Called after model checkpoint callback saves a new checkpoint.\n",
      " |      \n",
      " |      Args:\n",
      " |          checkpoint_callback: the model checkpoint callback instance\n",
      " |  \n",
      " |  finalize(self, status: str) -> None\n",
      " |      Do any processing that is necessary to finalize an experiment.\n",
      " |      \n",
      " |      Args:\n",
      " |          status: Status that the experiment finished with (e.g. success, failed, aborted)\n",
      " |  \n",
      " |  log_graph(self, model: 'pl.LightningModule', input_array: Union[torch.Tensor, NoneType] = None) -> None\n",
      " |      Record model graph.\n",
      " |      \n",
      " |      Args:\n",
      " |          model: the model with an implementation of ``forward``.\n",
      " |          input_array: input passes to `model.forward`\n",
      " |  \n",
      " |  log_hyperparams(self, params: Union[Dict[str, Any], argparse.Namespace], metrics: Union[Dict[str, Any], NoneType] = None) -> None\n",
      " |      Record hyperparameters. TensorBoard logs with and without saved hyperparameters are incompatible, the\n",
      " |      hyperparameters are then not displayed in the TensorBoard. Please delete or move the previously saved logs\n",
      " |      to display the new ones with hyperparameters.\n",
      " |      \n",
      " |      Args:\n",
      " |          params: a dictionary-like container with the hyperparameters\n",
      " |          metrics: Dictionary with metric names as keys and measured quantities as values\n",
      " |  \n",
      " |  save(self) -> None\n",
      " |      Save log data.\n",
      " |  \n",
      " |  ----------------------------------------------------------------------\n",
      " |  Readonly properties defined here:\n",
      " |  \n",
      " |  log_dir\n",
      " |      The directory for this run's tensorboard checkpoint.\n",
      " |      \n",
      " |      By default, it is named ``'version_${self.version}'`` but it can be overridden by passing a string value for the\n",
      " |      constructor's version parameter instead of ``None`` or an int.\n",
      " |  \n",
      " |  root_dir\n",
      " |      Parent directory for all tensorboard checkpoint subdirectories.\n",
      " |      \n",
      " |      If the experiment name parameter is an empty string, no experiment subdirectory is used and the checkpoint will\n",
      " |      be saved in \"save_dir/version\"\n",
      " |  \n",
      " |  save_dir\n",
      " |      Gets the save directory where the TensorBoard experiments are saved.\n",
      " |      \n",
      " |      Returns:\n",
      " |          The local path to the save directory where the TensorBoard experiments are saved.\n",
      " |  \n",
      " |  ----------------------------------------------------------------------\n",
      " |  Data and other attributes defined here:\n",
      " |  \n",
      " |  NAME_HPARAMS_FILE = 'hparams.yaml'\n",
      " |  \n",
      " |  __abstractmethods__ = frozenset()\n",
      " |  \n",
      " |  ----------------------------------------------------------------------\n",
      " |  Methods inherited from lightning_fabric.loggers.tensorboard.TensorBoardLogger:\n",
      " |  \n",
      " |  __getstate__(self) -> Dict[str, Any]\n",
      " |  \n",
      " |  log_metrics(self, metrics: Mapping[str, float], step: Union[int, NoneType] = None) -> None\n",
      " |      Records metrics. This method logs metrics as soon as it received them.\n",
      " |      \n",
      " |      Args:\n",
      " |          metrics: Dictionary with metric names as keys and measured quantities as values\n",
      " |          step: Step number at which the metrics should be recorded\n",
      " |  \n",
      " |  ----------------------------------------------------------------------\n",
      " |  Readonly properties inherited from lightning_fabric.loggers.tensorboard.TensorBoardLogger:\n",
      " |  \n",
      " |  experiment\n",
      " |      Actual tensorboard object. To use TensorBoard features anywhere in your code, do the following.\n",
      " |      \n",
      " |      Example::\n",
      " |      \n",
      " |          logger.experiment.some_tensorboard_function()\n",
      " |  \n",
      " |  name\n",
      " |      Get the name of the experiment.\n",
      " |      \n",
      " |      Returns:\n",
      " |          The name of the experiment.\n",
      " |  \n",
      " |  sub_dir\n",
      " |      Gets the sub directory where the TensorBoard experiments are saved.\n",
      " |      \n",
      " |      Returns:\n",
      " |          The local path to the sub directory where the TensorBoard experiments are saved.\n",
      " |  \n",
      " |  version\n",
      " |      Get the experiment version.\n",
      " |      \n",
      " |      Returns:\n",
      " |          The experiment version if specified else the next version.\n",
      " |  \n",
      " |  ----------------------------------------------------------------------\n",
      " |  Data and other attributes inherited from lightning_fabric.loggers.tensorboard.TensorBoardLogger:\n",
      " |  \n",
      " |  LOGGER_JOIN_CHAR = '-'\n",
      " |  \n",
      " |  ----------------------------------------------------------------------\n",
      " |  Readonly properties inherited from lightning_fabric.loggers.logger.Logger:\n",
      " |  \n",
      " |  group_separator\n",
      " |      Return the default separator used by the logger to group the data into subfolders.\n",
      " |  \n",
      " |  ----------------------------------------------------------------------\n",
      " |  Data descriptors inherited from lightning_fabric.loggers.logger.Logger:\n",
      " |  \n",
      " |  __dict__\n",
      " |      dictionary for instance variables (if defined)\n",
      " |  \n",
      " |  __weakref__\n",
      " |      list of weak references to the object (if defined)\n",
      "\n"
     ]
    }
   ],
   "source": [
    "help(TensorBoardLogger)"
   ]
  },
  {
   "cell_type": "code",
   "execution_count": 6,
   "metadata": {},
   "outputs": [
    {
     "name": "stderr",
     "output_type": "stream",
     "text": [
      "Using 16bit Automatic Mixed Precision (AMP)\n",
      "GPU available: True (cuda), used: True\n",
      "TPU available: False, using: 0 TPU cores\n",
      "IPU available: False, using: 0 IPUs\n",
      "HPU available: False, using: 0 HPUs\n"
     ]
    }
   ],
   "source": [
    "# TB Logger\n",
    "logger = TensorBoardLogger(\"lightning_logs\", name=config[\"run_name\"])\n",
    "\n",
    "# Callbacks\n",
    "checkpoint_callback = ModelCheckpoint(\n",
    "    save_top_k=3,\n",
    "    monitor=\"val_loss\",\n",
    "    mode=\"min\",\n",
    "    dirpath=\"runs/{}/\".format(config[\"run_name\"]),\n",
    "    filename=\"{epoch:02d}-{step:d}-{val_loss:.4f}\",\n",
    "    verbose=True,\n",
    "    every_n_epochs=1,\n",
    ")\n",
    "lr_monitor = LearningRateMonitor(logging_interval=\"step\")\n",
    "\n",
    "# Initialize a Trainer\n",
    "trainer = pl.Trainer(\n",
    "    accelerator=\"cuda\",\n",
    "    devices=[0],\n",
    "    precision=16,\n",
    "    max_epochs=50,\n",
    "    min_epochs=1,\n",
    "    callbacks=[lr_monitor, checkpoint_callback],\n",
    "    check_val_every_n_epoch=1,\n",
    "    logger=logger,\n",
    "    log_every_n_steps=1,\n",
    ")"
   ]
  },
  {
   "cell_type": "code",
   "execution_count": 10,
   "metadata": {},
   "outputs": [
    {
     "name": "stderr",
     "output_type": "stream",
     "text": [
      "Reading from file: 100%|█████████████████████████████████████████████████████████████████████████████████████████████████████████████████████████████████████████████████████████████████████| 464010/464010 [00:06<00:00, 73089.84it/s]\n",
      "Missing logger folder: lightning_logs/tutorial\n",
      "LOCAL_RANK: 0 - CUDA_VISIBLE_DEVICES: [0]\n",
      "\n",
      "  | Name      | Type       | Params\n",
      "-----------------------------------------\n",
      "0 | encoder   | EncoderRNN | 1.1 M \n",
      "1 | decoder   | DecoderRNN | 3.3 M \n",
      "2 | criterion | NLLLoss    | 0     \n",
      "-----------------------------------------\n",
      "4.4 M     Trainable params\n",
      "0         Non-trainable params\n",
      "4.4 M     Total params\n",
      "17.465    Total estimated model params size (MB)\n"
     ]
    },
    {
     "data": {
      "application/vnd.jupyter.widget-view+json": {
       "model_id": "",
       "version_major": 2,
       "version_minor": 0
      },
      "text/plain": [
       "Sanity Checking: 0it [00:00, ?it/s]"
      ]
     },
     "metadata": {},
     "output_type": "display_data"
    },
    {
     "name": "stderr",
     "output_type": "stream",
     "text": [
      "/home/somov-od/nmt_venv/lib/python3.8/site-packages/torch/utils/data/dataloader.py:561: UserWarning: This DataLoader will create 16 worker processes in total. Our suggested max number of worker in current system is 4, which is smaller than what this DataLoader is going to create. Please be aware that excessive worker creation might get DataLoader running slow or even freeze, lower the worker number to avoid potential slowness/freeze if necessary.\n",
      "  warnings.warn(_create_warning_msg(\n"
     ]
    },
    {
     "name": "stdout",
     "output_type": "stream",
     "text": [
      "вы опять врёте ---> комнатах ожидании незамужние слепой\n",
      "ты слишком расслаблен ---> полки знаменитый лишний противен\n",
      "я всегда готова ---> выигрываю закончилось британец горький\n",
      "мы остаёмся здесь ---> морепродукты избалованный безнравственна компаньон\n",
      "у меня идет ---> знают убиваешь ортодонт праздную\n",
      "ты идиот ---> полки наркоман жажда честолюбивы\n",
      "он не женат ---> умна доступна романтик вечером\n",
      "он невиновен ---> морепродукты очевидно прихожу комнате\n",
      "я атеист ---> одарён надоел заказчик пляж\n",
      "я иду за ---> музыканты музыканты утомил английском\n",
      "мы с ним ---> бездарен устаю романтик подумываю\n",
      "я тот кто ---> расстроена растерянности рулём зовут\n",
      "я вполне счастлива ---> морепродукты очевидно прихожу комнате\n",
      "ты очень грязная ---> полки наркоман жажда честолюбивы\n",
      "я в своей ---> суеверен смс без пришёл\n"
     ]
    },
    {
     "data": {
      "application/vnd.jupyter.widget-view+json": {
       "model_id": "a352f8b83458490f9181c3845d013509",
       "version_major": 2,
       "version_minor": 0
      },
      "text/plain": [
       "Training: 0it [00:00, ?it/s]"
      ]
     },
     "metadata": {},
     "output_type": "display_data"
    },
    {
     "data": {
      "application/vnd.jupyter.widget-view+json": {
       "model_id": "",
       "version_major": 2,
       "version_minor": 0
      },
      "text/plain": [
       "Validation: 0it [00:00, ?it/s]"
      ]
     },
     "metadata": {},
     "output_type": "display_data"
    },
    {
     "name": "stdout",
     "output_type": "stream",
     "text": [
      "вы опять врёте ---> я не\n",
      "ты слишком расслаблен ---> я не\n",
      "я всегда готова ---> я не\n",
      "мы остаёмся здесь ---> я не\n",
      "у меня идет ---> я не\n",
      "ты идиот ---> я не\n",
      "он не женат ---> я не\n",
      "он невиновен ---> я не\n",
      "я атеист ---> я не\n",
      "я иду за ---> я не\n",
      "мы с ним ---> я не\n",
      "я тот кто ---> я не\n",
      "я вполне счастлива ---> я не\n",
      "ты очень грязная ---> я не\n",
      "я в своей ---> я не\n"
     ]
    },
    {
     "name": "stderr",
     "output_type": "stream",
     "text": [
      "Epoch 0, global step 41: 'val_loss' reached 3.12432 (best 3.12432), saving model to '/home/somov-od/mashine_translation/runs/tutorial/epoch=00-step=41-val_loss=3.1243.ckpt' as top 3\n"
     ]
    },
    {
     "data": {
      "application/vnd.jupyter.widget-view+json": {
       "model_id": "",
       "version_major": 2,
       "version_minor": 0
      },
      "text/plain": [
       "Validation: 0it [00:00, ?it/s]"
      ]
     },
     "metadata": {},
     "output_type": "display_data"
    },
    {
     "name": "stdout",
     "output_type": "stream",
     "text": [
      "вы опять врёте ---> ты не\n",
      "ты слишком расслаблен ---> ты не\n",
      "я всегда готова ---> я не\n",
      "мы остаёмся здесь ---> мы не\n",
      "у меня идет ---> я не\n",
      "ты идиот ---> ты не\n",
      "он не женат ---> я не\n",
      "он невиновен ---> я не\n",
      "я атеист ---> я не\n",
      "я иду за ---> я не\n",
      "мы с ним ---> я не\n",
      "я тот кто ---> я не\n",
      "я вполне счастлива ---> я не\n",
      "ты очень грязная ---> ты не\n",
      "я в своей ---> я не\n"
     ]
    },
    {
     "name": "stderr",
     "output_type": "stream",
     "text": [
      "Epoch 1, global step 82: 'val_loss' reached 2.91223 (best 2.91223), saving model to '/home/somov-od/mashine_translation/runs/tutorial/epoch=01-step=82-val_loss=2.9122.ckpt' as top 3\n"
     ]
    },
    {
     "data": {
      "application/vnd.jupyter.widget-view+json": {
       "model_id": "",
       "version_major": 2,
       "version_minor": 0
      },
      "text/plain": [
       "Validation: 0it [00:00, ?it/s]"
      ]
     },
     "metadata": {},
     "output_type": "display_data"
    },
    {
     "name": "stdout",
     "output_type": "stream",
     "text": [
      "вы опять врёте ---> ты очень\n",
      "ты слишком расслаблен ---> ты не\n",
      "я всегда готова ---> я не\n",
      "мы остаёмся здесь ---> мы не\n",
      "у меня идет ---> я не\n",
      "ты идиот ---> ты не\n",
      "он не женат ---> он очень\n",
      "он невиновен ---> он очень\n",
      "я атеист ---> я не\n",
      "я иду за ---> я не\n",
      "мы с ним ---> он очень\n",
      "я тот кто ---> я не\n",
      "я вполне счастлива ---> я не\n",
      "ты очень грязная ---> ты не\n",
      "я в своей ---> я не\n"
     ]
    },
    {
     "name": "stderr",
     "output_type": "stream",
     "text": [
      "Epoch 2, global step 123: 'val_loss' reached 2.78686 (best 2.78686), saving model to '/home/somov-od/mashine_translation/runs/tutorial/epoch=02-step=123-val_loss=2.7869.ckpt' as top 3\n"
     ]
    },
    {
     "data": {
      "application/vnd.jupyter.widget-view+json": {
       "model_id": "",
       "version_major": 2,
       "version_minor": 0
      },
      "text/plain": [
       "Validation: 0it [00:00, ?it/s]"
      ]
     },
     "metadata": {},
     "output_type": "display_data"
    },
    {
     "name": "stdout",
     "output_type": "stream",
     "text": [
      "вы опять врёте ---> ты очень\n",
      "ты слишком расслаблен ---> ты не\n",
      "я всегда готова ---> я не\n",
      "мы остаёмся здесь ---> мы все\n",
      "у меня идет ---> я не\n",
      "ты идиот ---> ты очень\n",
      "он не женат ---> он очень\n",
      "он невиновен ---> он очень\n",
      "я атеист ---> я очень\n",
      "я иду за ---> я не\n",
      "мы с ним ---> он очень\n",
      "я тот кто ---> я очень\n",
      "я вполне счастлива ---> я очень\n",
      "ты очень грязная ---> ты очень\n",
      "я в своей ---> я не\n"
     ]
    },
    {
     "name": "stderr",
     "output_type": "stream",
     "text": [
      "Epoch 3, global step 164: 'val_loss' reached 2.70821 (best 2.70821), saving model to '/home/somov-od/mashine_translation/runs/tutorial/epoch=03-step=164-val_loss=2.7082.ckpt' as top 3\n"
     ]
    },
    {
     "data": {
      "application/vnd.jupyter.widget-view+json": {
       "model_id": "",
       "version_major": 2,
       "version_minor": 0
      },
      "text/plain": [
       "Validation: 0it [00:00, ?it/s]"
      ]
     },
     "metadata": {},
     "output_type": "display_data"
    },
    {
     "name": "stdout",
     "output_type": "stream",
     "text": [
      "вы опять врёте ---> ты очень\n",
      "ты слишком расслаблен ---> ты слишком\n",
      "я всегда готова ---> я не\n",
      "мы остаёмся здесь ---> мы нас\n",
      "у меня идет ---> я меня\n",
      "ты идиот ---> ты очень\n",
      "он не женат ---> он очень\n",
      "он невиновен ---> он очень\n",
      "я атеист ---> я меня\n",
      "я иду за ---> я меня\n",
      "мы с ним ---> он в\n",
      "я тот кто ---> я очень\n",
      "я вполне счастлива ---> я меня\n",
      "ты очень грязная ---> ты очень\n",
      "я в своей ---> я в\n"
     ]
    },
    {
     "name": "stderr",
     "output_type": "stream",
     "text": [
      "Epoch 4, global step 205: 'val_loss' reached 2.64401 (best 2.64401), saving model to '/home/somov-od/mashine_translation/runs/tutorial/epoch=04-step=205-val_loss=2.6440.ckpt' as top 3\n"
     ]
    },
    {
     "data": {
      "application/vnd.jupyter.widget-view+json": {
       "model_id": "",
       "version_major": 2,
       "version_minor": 0
      },
      "text/plain": [
       "Validation: 0it [00:00, ?it/s]"
      ]
     },
     "metadata": {},
     "output_type": "display_data"
    },
    {
     "name": "stdout",
     "output_type": "stream",
     "text": [
      "вы опять врёте ---> ты хороший\n",
      "ты слишком расслаблен ---> ты слишком\n",
      "я всегда готова ---> я не не\n",
      "мы остаёмся здесь ---> мы нас\n",
      "у меня идет ---> я меня\n",
      "ты идиот ---> ты хороший\n",
      "он не женат ---> он мой\n",
      "он невиновен ---> он мой\n",
      "я атеист ---> я меня\n",
      "я иду за ---> я меня\n",
      "мы с ним ---> он него\n",
      "я тот кто ---> я меня\n",
      "я вполне счастлива ---> я меня\n",
      "ты очень грязная ---> ты очень\n",
      "я в своей ---> я меня\n"
     ]
    },
    {
     "name": "stderr",
     "output_type": "stream",
     "text": [
      "Epoch 5, global step 246: 'val_loss' reached 2.59679 (best 2.59679), saving model to '/home/somov-od/mashine_translation/runs/tutorial/epoch=05-step=246-val_loss=2.5968.ckpt' as top 3\n"
     ]
    },
    {
     "data": {
      "application/vnd.jupyter.widget-view+json": {
       "model_id": "",
       "version_major": 2,
       "version_minor": 0
      },
      "text/plain": [
       "Validation: 0it [00:00, ?it/s]"
      ]
     },
     "metadata": {},
     "output_type": "display_data"
    },
    {
     "name": "stdout",
     "output_type": "stream",
     "text": [
      "вы опять врёте ---> ты хороший\n",
      "ты слишком расслаблен ---> ты слишком\n",
      "я всегда готова ---> я не очень\n",
      "мы остаёмся здесь ---> мы нас\n",
      "у меня идет ---> я в\n",
      "ты идиот ---> ты хороший\n",
      "он не женат ---> он мой\n",
      "он невиновен ---> он мой\n",
      "я атеист ---> я меня\n",
      "я иду за ---> я в\n",
      "мы с ним ---> он мой\n",
      "я тот кто ---> я в\n",
      "я вполне счастлива ---> я в\n",
      "ты очень грязная ---> ты очень\n",
      "я в своей ---> я в\n"
     ]
    },
    {
     "name": "stderr",
     "output_type": "stream",
     "text": [
      "Epoch 6, global step 287: 'val_loss' reached 2.56207 (best 2.56207), saving model to '/home/somov-od/mashine_translation/runs/tutorial/epoch=06-step=287-val_loss=2.5621.ckpt' as top 3\n"
     ]
    },
    {
     "data": {
      "application/vnd.jupyter.widget-view+json": {
       "model_id": "",
       "version_major": 2,
       "version_minor": 0
      },
      "text/plain": [
       "Validation: 0it [00:00, ?it/s]"
      ]
     },
     "metadata": {},
     "output_type": "display_data"
    },
    {
     "name": "stdout",
     "output_type": "stream",
     "text": [
      "вы опять врёте ---> ты хороший\n",
      "ты слишком расслаблен ---> ты слишком слишком\n",
      "я всегда готова ---> я не очень\n",
      "мы остаёмся здесь ---> мы в\n",
      "у меня идет ---> я в\n",
      "ты идиот ---> ты хороший\n",
      "он не женат ---> он не\n",
      "он невиновен ---> он на\n",
      "я атеист ---> я немного\n",
      "я иду за ---> я в\n",
      "мы с ним ---> он на\n",
      "я тот кто ---> я в\n",
      "я вполне счастлива ---> я в\n",
      "ты очень грязная ---> ты очень\n",
      "я в своей ---> я в\n"
     ]
    },
    {
     "name": "stderr",
     "output_type": "stream",
     "text": [
      "Epoch 7, global step 328: 'val_loss' reached 2.53171 (best 2.53171), saving model to '/home/somov-od/mashine_translation/runs/tutorial/epoch=07-step=328-val_loss=2.5317.ckpt' as top 3\n"
     ]
    },
    {
     "data": {
      "application/vnd.jupyter.widget-view+json": {
       "model_id": "",
       "version_major": 2,
       "version_minor": 0
      },
      "text/plain": [
       "Validation: 0it [00:00, ?it/s]"
      ]
     },
     "metadata": {},
     "output_type": "display_data"
    },
    {
     "name": "stdout",
     "output_type": "stream",
     "text": [
      "вы опять врёте ---> ты хороший\n",
      "ты слишком расслаблен ---> ты слишком слишком\n",
      "я всегда готова ---> я всегда не\n",
      "мы остаёмся здесь ---> мы нас\n",
      "у меня идет ---> я в\n",
      "ты идиот ---> ты хороший\n",
      "он не женат ---> он не\n",
      "он невиновен ---> он мой\n",
      "я атеист ---> я немного\n",
      "я иду за ---> я я\n",
      "мы с ним ---> он мой\n",
      "я тот кто ---> я в\n",
      "я вполне счастлива ---> я рад что\n",
      "ты очень грязная ---> ты очень\n",
      "я в своей ---> я в\n"
     ]
    },
    {
     "name": "stderr",
     "output_type": "stream",
     "text": [
      "Epoch 8, global step 369: 'val_loss' reached 2.49699 (best 2.49699), saving model to '/home/somov-od/mashine_translation/runs/tutorial/epoch=08-step=369-val_loss=2.4970.ckpt' as top 3\n"
     ]
    },
    {
     "data": {
      "application/vnd.jupyter.widget-view+json": {
       "model_id": "",
       "version_major": 2,
       "version_minor": 0
      },
      "text/plain": [
       "Validation: 0it [00:00, ?it/s]"
      ]
     },
     "metadata": {},
     "output_type": "display_data"
    },
    {
     "name": "stdout",
     "output_type": "stream",
     "text": [
      "вы опять врёте ---> ты хороший\n",
      "ты слишком расслаблен ---> ты слишком слишком\n",
      "я всегда готова ---> я всегда время\n",
      "мы остаёмся здесь ---> мы нас\n",
      "у меня идет ---> я в\n",
      "ты идиот ---> ты хороший\n",
      "он не женат ---> он не\n",
      "он невиновен ---> он него\n",
      "я атеист ---> я немного\n",
      "я иду за ---> я меня\n",
      "мы с ним ---> он него\n",
      "я тот кто ---> я меня\n",
      "я вполне счастлива ---> я рад что\n",
      "ты очень грязная ---> ты очень\n",
      "я в своей ---> я в\n"
     ]
    },
    {
     "name": "stderr",
     "output_type": "stream",
     "text": [
      "Epoch 9, global step 410: 'val_loss' reached 2.47194 (best 2.47194), saving model to '/home/somov-od/mashine_translation/runs/tutorial/epoch=09-step=410-val_loss=2.4719.ckpt' as top 3\n"
     ]
    },
    {
     "data": {
      "application/vnd.jupyter.widget-view+json": {
       "model_id": "",
       "version_major": 2,
       "version_minor": 0
      },
      "text/plain": [
       "Validation: 0it [00:00, ?it/s]"
      ]
     },
     "metadata": {},
     "output_type": "display_data"
    },
    {
     "name": "stdout",
     "output_type": "stream",
     "text": [
      "вы опять врёте ---> ты хороший\n",
      "ты слишком расслаблен ---> ты слишком слишком\n",
      "я всегда готова ---> я всегда время\n",
      "мы остаёмся здесь ---> мы нас\n",
      "у меня идет ---> я в\n",
      "ты идиот ---> ты хороший\n",
      "он не женат ---> он не\n",
      "он невиновен ---> он на\n",
      "я атеист ---> я немного\n",
      "я иду за ---> я меня\n",
      "мы с ним ---> он на\n",
      "я тот кто ---> я меня\n",
      "я вполне счастлива ---> я рад что\n",
      "ты очень грязная ---> ты очень\n",
      "я в своей ---> я в в\n"
     ]
    },
    {
     "name": "stderr",
     "output_type": "stream",
     "text": [
      "Epoch 10, global step 451: 'val_loss' reached 2.44940 (best 2.44940), saving model to '/home/somov-od/mashine_translation/runs/tutorial/epoch=10-step=451-val_loss=2.4494.ckpt' as top 3\n"
     ]
    },
    {
     "data": {
      "application/vnd.jupyter.widget-view+json": {
       "model_id": "",
       "version_major": 2,
       "version_minor": 0
      },
      "text/plain": [
       "Validation: 0it [00:00, ?it/s]"
      ]
     },
     "metadata": {},
     "output_type": "display_data"
    },
    {
     "name": "stdout",
     "output_type": "stream",
     "text": [
      "вы опять врёте ---> ты ты\n",
      "ты слишком расслаблен ---> ты слишком слишком\n",
      "я всегда готова ---> я всегда время\n",
      "мы остаёмся здесь ---> мы нас\n",
      "у меня идет ---> я меня\n",
      "ты идиот ---> ты хороший\n",
      "он не женат ---> он не\n",
      "он невиновен ---> он на\n",
      "я атеист ---> я немного\n",
      "я иду за ---> я я\n",
      "мы с ним ---> он мой\n",
      "я тот кто ---> я сейчас\n",
      "я вполне счастлива ---> я рад что\n",
      "ты очень грязная ---> ты очень умная\n",
      "я в своей ---> я в в\n"
     ]
    },
    {
     "name": "stderr",
     "output_type": "stream",
     "text": [
      "Epoch 11, global step 492: 'val_loss' reached 2.42920 (best 2.42920), saving model to '/home/somov-od/mashine_translation/runs/tutorial/epoch=11-step=492-val_loss=2.4292.ckpt' as top 3\n"
     ]
    },
    {
     "data": {
      "application/vnd.jupyter.widget-view+json": {
       "model_id": "",
       "version_major": 2,
       "version_minor": 0
      },
      "text/plain": [
       "Validation: 0it [00:00, ?it/s]"
      ]
     },
     "metadata": {},
     "output_type": "display_data"
    },
    {
     "name": "stdout",
     "output_type": "stream",
     "text": [
      "вы опять врёте ---> ты ты\n",
      "ты слишком расслаблен ---> ты слишком слишком\n",
      "я всегда готова ---> я всегда время\n",
      "мы остаёмся здесь ---> мы нас\n",
      "у меня идет ---> я в\n",
      "ты идиот ---> ты хороший\n",
      "он не женат ---> он не нет\n",
      "он невиновен ---> он на\n",
      "я атеист ---> я немного\n",
      "я иду за ---> я я\n",
      "мы с ним ---> он в в\n",
      "я тот кто ---> я сейчас\n",
      "я вполне счастлива ---> я рад что\n",
      "ты очень грязная ---> ты очень умная\n",
      "я в своей ---> я в в\n"
     ]
    },
    {
     "name": "stderr",
     "output_type": "stream",
     "text": [
      "Epoch 12, global step 533: 'val_loss' reached 2.41715 (best 2.41715), saving model to '/home/somov-od/mashine_translation/runs/tutorial/epoch=12-step=533-val_loss=2.4171.ckpt' as top 3\n"
     ]
    },
    {
     "data": {
      "application/vnd.jupyter.widget-view+json": {
       "model_id": "",
       "version_major": 2,
       "version_minor": 0
      },
      "text/plain": [
       "Validation: 0it [00:00, ?it/s]"
      ]
     },
     "metadata": {},
     "output_type": "display_data"
    },
    {
     "name": "stdout",
     "output_type": "stream",
     "text": [
      "вы опять врёте ---> ты ты\n",
      "ты слишком расслаблен ---> ты слишком слишком\n",
      "я всегда готова ---> я всегда время\n",
      "мы остаёмся здесь ---> мы нас\n",
      "у меня идет ---> я меня\n",
      "ты идиот ---> ты хороший\n",
      "он не женат ---> он не\n",
      "он невиновен ---> он него\n",
      "я атеист ---> я немного\n",
      "я иду за ---> я меня\n",
      "мы с ним ---> он него\n",
      "я тот кто ---> я меня\n",
      "я вполне счастлива ---> я рад что\n",
      "ты очень грязная ---> ты очень умная\n",
      "я в своей ---> я в в\n"
     ]
    },
    {
     "name": "stderr",
     "output_type": "stream",
     "text": [
      "Epoch 13, global step 574: 'val_loss' reached 2.39929 (best 2.39929), saving model to '/home/somov-od/mashine_translation/runs/tutorial/epoch=13-step=574-val_loss=2.3993.ckpt' as top 3\n"
     ]
    },
    {
     "data": {
      "application/vnd.jupyter.widget-view+json": {
       "model_id": "",
       "version_major": 2,
       "version_minor": 0
      },
      "text/plain": [
       "Validation: 0it [00:00, ?it/s]"
      ]
     },
     "metadata": {},
     "output_type": "display_data"
    },
    {
     "name": "stdout",
     "output_type": "stream",
     "text": [
      "вы опять врёте ---> ты ты\n",
      "ты слишком расслаблен ---> ты слишком слишком\n",
      "я всегда готова ---> я всегда время\n",
      "мы остаёмся здесь ---> мы нас\n",
      "у меня идет ---> я меня\n",
      "ты идиот ---> ты хороший\n",
      "он не женат ---> он не нет\n",
      "он невиновен ---> он на\n",
      "я атеист ---> я немного\n",
      "я иду за ---> я я\n",
      "мы с ним ---> он сейчас\n",
      "я тот кто ---> я очень\n",
      "я вполне счастлива ---> я рад что\n",
      "ты очень грязная ---> ты очень одарена\n",
      "я в своей ---> я в в\n"
     ]
    },
    {
     "name": "stderr",
     "output_type": "stream",
     "text": [
      "Epoch 14, global step 615: 'val_loss' reached 2.38121 (best 2.38121), saving model to '/home/somov-od/mashine_translation/runs/tutorial/epoch=14-step=615-val_loss=2.3812.ckpt' as top 3\n"
     ]
    },
    {
     "data": {
      "application/vnd.jupyter.widget-view+json": {
       "model_id": "",
       "version_major": 2,
       "version_minor": 0
      },
      "text/plain": [
       "Validation: 0it [00:00, ?it/s]"
      ]
     },
     "metadata": {},
     "output_type": "display_data"
    },
    {
     "name": "stdout",
     "output_type": "stream",
     "text": [
      "вы опять врёте ---> ты ты\n",
      "ты слишком расслаблен ---> ты слишком слишком\n",
      "я всегда готова ---> я всегда время\n",
      "мы остаёмся здесь ---> мы нас\n",
      "у меня идет ---> я меня\n",
      "ты идиот ---> ты хороший\n",
      "он не женат ---> он уже спит\n",
      "он невиновен ---> он него\n",
      "я атеист ---> я немного\n",
      "я иду за ---> я уезжаю\n",
      "мы с ним ---> он сейчас\n",
      "я тот кто ---> я сейчас\n",
      "я вполне счастлива ---> я рад что\n",
      "ты очень грязная ---> ты очень грязный\n",
      "я в своей ---> я в в\n"
     ]
    },
    {
     "name": "stderr",
     "output_type": "stream",
     "text": [
      "Epoch 15, global step 656: 'val_loss' reached 2.37449 (best 2.37449), saving model to '/home/somov-od/mashine_translation/runs/tutorial/epoch=15-step=656-val_loss=2.3745.ckpt' as top 3\n"
     ]
    },
    {
     "data": {
      "application/vnd.jupyter.widget-view+json": {
       "model_id": "",
       "version_major": 2,
       "version_minor": 0
      },
      "text/plain": [
       "Validation: 0it [00:00, ?it/s]"
      ]
     },
     "metadata": {},
     "output_type": "display_data"
    },
    {
     "name": "stdout",
     "output_type": "stream",
     "text": [
      "вы опять врёте ---> ты ты\n",
      "ты слишком расслаблен ---> ты слишком слишком\n",
      "я всегда готова ---> я всегда время\n",
      "мы остаёмся здесь ---> мы нас\n",
      "у меня идет ---> я меня аллергия\n",
      "ты идиот ---> ты хороший\n",
      "он не женат ---> он не нет\n",
      "он невиновен ---> он него\n",
      "я атеист ---> я немного\n",
      "я иду за ---> я я\n",
      "мы с ним ---> он примерно в\n",
      "я тот кто ---> я сейчас\n",
      "я вполне счастлива ---> я рад что\n",
      "ты очень грязная ---> ты очень грязная\n",
      "я в своей ---> я в в\n"
     ]
    },
    {
     "name": "stderr",
     "output_type": "stream",
     "text": [
      "Epoch 16, global step 697: 'val_loss' reached 2.36064 (best 2.36064), saving model to '/home/somov-od/mashine_translation/runs/tutorial/epoch=16-step=697-val_loss=2.3606.ckpt' as top 3\n"
     ]
    },
    {
     "data": {
      "application/vnd.jupyter.widget-view+json": {
       "model_id": "",
       "version_major": 2,
       "version_minor": 0
      },
      "text/plain": [
       "Validation: 0it [00:00, ?it/s]"
      ]
     },
     "metadata": {},
     "output_type": "display_data"
    },
    {
     "name": "stdout",
     "output_type": "stream",
     "text": [
      "вы опять врёте ---> ты ты\n",
      "ты слишком расслаблен ---> ты слишком слишком\n",
      "я всегда готова ---> я всегда время\n",
      "мы остаёмся здесь ---> мы нас\n",
      "у меня идет ---> я меня\n",
      "ты идиот ---> ты хороший\n",
      "он не женат ---> он не\n",
      "он невиновен ---> он хорошо\n",
      "я атеист ---> я немного\n",
      "я иду за ---> я я\n",
      "мы с ним ---> он примерно в\n",
      "я тот кто ---> я сейчас\n",
      "я вполне счастлива ---> я рад что\n",
      "ты очень грязная ---> ты очень умная\n",
      "я в своей ---> я в в\n"
     ]
    },
    {
     "name": "stderr",
     "output_type": "stream",
     "text": [
      "Epoch 17, global step 738: 'val_loss' reached 2.34753 (best 2.34753), saving model to '/home/somov-od/mashine_translation/runs/tutorial/epoch=17-step=738-val_loss=2.3475.ckpt' as top 3\n"
     ]
    },
    {
     "data": {
      "application/vnd.jupyter.widget-view+json": {
       "model_id": "",
       "version_major": 2,
       "version_minor": 0
      },
      "text/plain": [
       "Validation: 0it [00:00, ?it/s]"
      ]
     },
     "metadata": {},
     "output_type": "display_data"
    },
    {
     "name": "stdout",
     "output_type": "stream",
     "text": [
      "вы опять врёте ---> ты ты\n",
      "ты слишком расслаблен ---> ты слишком слишком\n",
      "я всегда готова ---> я всегда время\n",
      "мы остаёмся здесь ---> мы нас\n",
      "у меня идет ---> у меня аллергия\n",
      "ты идиот ---> ты хороший\n",
      "он не женат ---> он не\n",
      "он невиновен ---> он него\n",
      "я атеист ---> я немного\n",
      "я иду за ---> я боюсь\n",
      "мы с ним ---> он примерно в\n",
      "я тот кто ---> я сейчас\n",
      "я вполне счастлива ---> я рад что\n",
      "ты очень грязная ---> ты очень одарена\n",
      "я в своей ---> я в в\n"
     ]
    },
    {
     "name": "stderr",
     "output_type": "stream",
     "text": [
      "Epoch 18, global step 779: 'val_loss' reached 2.33202 (best 2.33202), saving model to '/home/somov-od/mashine_translation/runs/tutorial/epoch=18-step=779-val_loss=2.3320.ckpt' as top 3\n"
     ]
    },
    {
     "data": {
      "application/vnd.jupyter.widget-view+json": {
       "model_id": "",
       "version_major": 2,
       "version_minor": 0
      },
      "text/plain": [
       "Validation: 0it [00:00, ?it/s]"
      ]
     },
     "metadata": {},
     "output_type": "display_data"
    },
    {
     "name": "stdout",
     "output_type": "stream",
     "text": [
      "вы опять врёте ---> ты ты\n",
      "ты слишком расслаблен ---> ты слишком слишком\n",
      "я всегда готова ---> я всегда время\n",
      "мы остаёмся здесь ---> мы работаем\n",
      "у меня идет ---> я меня в\n",
      "ты идиот ---> ты хороший\n",
      "он не женат ---> он не нет\n",
      "он невиновен ---> он него\n",
      "я атеист ---> я человек\n",
      "я иду за ---> я я\n",
      "мы с ним ---> он примерно в\n",
      "я тот кто ---> я сейчас\n",
      "я вполне счастлива ---> я рад что\n",
      "ты очень грязная ---> ты очень одарена\n",
      "я в своей ---> я в в\n"
     ]
    },
    {
     "name": "stderr",
     "output_type": "stream",
     "text": [
      "Epoch 19, global step 820: 'val_loss' reached 2.31905 (best 2.31905), saving model to '/home/somov-od/mashine_translation/runs/tutorial/epoch=19-step=820-val_loss=2.3190.ckpt' as top 3\n"
     ]
    },
    {
     "data": {
      "application/vnd.jupyter.widget-view+json": {
       "model_id": "",
       "version_major": 2,
       "version_minor": 0
      },
      "text/plain": [
       "Validation: 0it [00:00, ?it/s]"
      ]
     },
     "metadata": {},
     "output_type": "display_data"
    },
    {
     "name": "stdout",
     "output_type": "stream",
     "text": [
      "вы опять врёте ---> ты ты\n",
      "ты слишком расслаблен ---> ты слишком слишком\n",
      "я всегда готова ---> я всегда время\n",
      "мы остаёмся здесь ---> мы работаем\n",
      "у меня идет ---> у меня аллергия\n",
      "ты идиот ---> ты хороший\n",
      "он не женат ---> он не нет\n",
      "он невиновен ---> он молод\n",
      "я атеист ---> я немного\n",
      "я иду за ---> я боюсь\n",
      "мы с ним ---> он примерно сорока\n",
      "я тот кто ---> я сейчас\n",
      "я вполне счастлива ---> я рад что\n",
      "ты очень грязная ---> ты очень одарена\n",
      "я в своей ---> я в в\n"
     ]
    },
    {
     "name": "stderr",
     "output_type": "stream",
     "text": [
      "Epoch 20, global step 861: 'val_loss' reached 2.31404 (best 2.31404), saving model to '/home/somov-od/mashine_translation/runs/tutorial/epoch=20-step=861-val_loss=2.3140.ckpt' as top 3\n"
     ]
    },
    {
     "data": {
      "application/vnd.jupyter.widget-view+json": {
       "model_id": "",
       "version_major": 2,
       "version_minor": 0
      },
      "text/plain": [
       "Validation: 0it [00:00, ?it/s]"
      ]
     },
     "metadata": {},
     "output_type": "display_data"
    },
    {
     "name": "stdout",
     "output_type": "stream",
     "text": [
      "вы опять врёте ---> ты ты\n",
      "ты слишком расслаблен ---> ты слишком слишком\n",
      "я всегда готова ---> я всегда время\n",
      "мы остаёмся здесь ---> мы нас\n",
      "у меня идет ---> у меня аллергия\n",
      "ты идиот ---> ты замечательный\n",
      "он не женат ---> он не нет\n",
      "он невиновен ---> он него\n",
      "я атеист ---> я честный\n",
      "я иду за ---> я уезжаю\n",
      "мы с ним ---> он примерно сорока\n",
      "я тот кто ---> я сейчас\n",
      "я вполне счастлива ---> я рад что\n",
      "ты очень грязная ---> ты очень одарена\n",
      "я в своей ---> я в в\n"
     ]
    },
    {
     "name": "stderr",
     "output_type": "stream",
     "text": [
      "Epoch 21, global step 902: 'val_loss' reached 2.30467 (best 2.30467), saving model to '/home/somov-od/mashine_translation/runs/tutorial/epoch=21-step=902-val_loss=2.3047.ckpt' as top 3\n"
     ]
    },
    {
     "data": {
      "application/vnd.jupyter.widget-view+json": {
       "model_id": "",
       "version_major": 2,
       "version_minor": 0
      },
      "text/plain": [
       "Validation: 0it [00:00, ?it/s]"
      ]
     },
     "metadata": {},
     "output_type": "display_data"
    },
    {
     "name": "stdout",
     "output_type": "stream",
     "text": [
      "вы опять врёте ---> ты ты\n",
      "ты слишком расслаблен ---> ты слишком слишком\n",
      "я всегда готова ---> я всегда время\n",
      "мы остаёмся здесь ---> мы нас\n",
      "у меня идет ---> у меня аллергия\n",
      "ты идиот ---> ты взрослый\n",
      "он не женат ---> он не\n",
      "он невиновен ---> он хорошо\n",
      "я атеист ---> я агент\n",
      "я иду за ---> я я\n",
      "мы с ним ---> он примерно сорока\n",
      "я тот кто ---> я сейчас\n",
      "я вполне счастлива ---> я рад что\n",
      "ты очень грязная ---> ты действительно очень\n",
      "я в своей ---> я в в\n"
     ]
    },
    {
     "name": "stderr",
     "output_type": "stream",
     "text": [
      "Epoch 22, global step 943: 'val_loss' reached 2.29996 (best 2.29996), saving model to '/home/somov-od/mashine_translation/runs/tutorial/epoch=22-step=943-val_loss=2.3000.ckpt' as top 3\n"
     ]
    },
    {
     "data": {
      "application/vnd.jupyter.widget-view+json": {
       "model_id": "",
       "version_major": 2,
       "version_minor": 0
      },
      "text/plain": [
       "Validation: 0it [00:00, ?it/s]"
      ]
     },
     "metadata": {},
     "output_type": "display_data"
    },
    {
     "name": "stdout",
     "output_type": "stream",
     "text": [
      "вы опять врёте ---> ты следующий\n",
      "ты слишком расслаблен ---> ты слишком слишком\n",
      "я всегда готова ---> я всегда время\n",
      "мы остаёмся здесь ---> мы нас\n",
      "у меня идет ---> у меня аллергия\n",
      "ты идиот ---> ты взрослый\n",
      "он не женат ---> он не нет\n",
      "он невиновен ---> он хорошо\n",
      "я атеист ---> я честный\n",
      "я иду за ---> я следую\n",
      "мы с ним ---> он примерно сорока\n",
      "я тот кто ---> я сейчас\n",
      "я вполне счастлива ---> я рад что\n",
      "ты очень грязная ---> ты очень одарена\n",
      "я в своей ---> я в в\n"
     ]
    },
    {
     "name": "stderr",
     "output_type": "stream",
     "text": [
      "Epoch 23, global step 984: 'val_loss' reached 2.28618 (best 2.28618), saving model to '/home/somov-od/mashine_translation/runs/tutorial/epoch=23-step=984-val_loss=2.2862.ckpt' as top 3\n"
     ]
    },
    {
     "data": {
      "application/vnd.jupyter.widget-view+json": {
       "model_id": "",
       "version_major": 2,
       "version_minor": 0
      },
      "text/plain": [
       "Validation: 0it [00:00, ?it/s]"
      ]
     },
     "metadata": {},
     "output_type": "display_data"
    },
    {
     "name": "stdout",
     "output_type": "stream",
     "text": [
      "вы опять врёте ---> ты лжёшь\n",
      "ты слишком расслаблен ---> ты слишком слишком\n",
      "я всегда готова ---> я всегда время\n",
      "мы остаёмся здесь ---> мы работаем\n",
      "у меня идет ---> у меня аллергия\n",
      "ты идиот ---> ты взрослый\n",
      "он не женат ---> он не\n",
      "он невиновен ---> он хорошо\n",
      "я атеист ---> я честный\n",
      "я иду за ---> я следую\n",
      "мы с ним ---> он примерно сорока\n",
      "я тот кто ---> я очень\n",
      "я вполне счастлива ---> я рад что\n",
      "ты очень грязная ---> ты очень одарена\n",
      "я в своей ---> я в в\n"
     ]
    },
    {
     "name": "stderr",
     "output_type": "stream",
     "text": [
      "Epoch 24, global step 1025: 'val_loss' reached 2.28851 (best 2.28618), saving model to '/home/somov-od/mashine_translation/runs/tutorial/epoch=24-step=1025-val_loss=2.2885.ckpt' as top 3\n"
     ]
    },
    {
     "data": {
      "application/vnd.jupyter.widget-view+json": {
       "model_id": "",
       "version_major": 2,
       "version_minor": 0
      },
      "text/plain": [
       "Validation: 0it [00:00, ?it/s]"
      ]
     },
     "metadata": {},
     "output_type": "display_data"
    },
    {
     "name": "stdout",
     "output_type": "stream",
     "text": [
      "вы опять врёте ---> ты лжёшь\n",
      "ты слишком расслаблен ---> ты слишком слишком\n",
      "я всегда готова ---> я всегда время\n",
      "мы остаёмся здесь ---> мы работаем\n",
      "у меня идет ---> у меня аллергия\n",
      "ты идиот ---> ты взрослый\n",
      "он не женат ---> он не\n",
      "он невиновен ---> он молод\n",
      "я атеист ---> я честный\n",
      "я иду за ---> я следую за\n",
      "мы с ним ---> он примерно сорока\n",
      "я тот кто ---> я сейчас\n",
      "я вполне счастлива ---> я рад что\n",
      "ты очень грязная ---> ты действительно храбрый\n",
      "я в своей ---> я в в\n"
     ]
    },
    {
     "name": "stderr",
     "output_type": "stream",
     "text": [
      "Epoch 25, global step 1066: 'val_loss' reached 2.28225 (best 2.28225), saving model to '/home/somov-od/mashine_translation/runs/tutorial/epoch=25-step=1066-val_loss=2.2823.ckpt' as top 3\n"
     ]
    },
    {
     "data": {
      "application/vnd.jupyter.widget-view+json": {
       "model_id": "",
       "version_major": 2,
       "version_minor": 0
      },
      "text/plain": [
       "Validation: 0it [00:00, ?it/s]"
      ]
     },
     "metadata": {},
     "output_type": "display_data"
    },
    {
     "name": "stdout",
     "output_type": "stream",
     "text": [
      "вы опять врёте ---> ты лжёшь\n",
      "ты слишком расслаблен ---> ты слишком слишком\n",
      "я всегда готова ---> я всегда время\n",
      "мы остаёмся здесь ---> мы нас\n",
      "у меня идет ---> у меня аллергия\n",
      "ты идиот ---> ты взрослый\n",
      "он не женат ---> он не нет\n",
      "он невиновен ---> он помешан\n",
      "я атеист ---> я честный\n",
      "я иду за ---> я следую за\n",
      "мы с ним ---> он примерно сорока\n",
      "я тот кто ---> я сейчас\n",
      "я вполне счастлива ---> я рад что\n",
      "ты очень грязная ---> ты очень одарена\n",
      "я в своей ---> я в в\n"
     ]
    },
    {
     "name": "stderr",
     "output_type": "stream",
     "text": [
      "Epoch 26, global step 1107: 'val_loss' reached 2.28063 (best 2.28063), saving model to '/home/somov-od/mashine_translation/runs/tutorial/epoch=26-step=1107-val_loss=2.2806.ckpt' as top 3\n"
     ]
    },
    {
     "data": {
      "application/vnd.jupyter.widget-view+json": {
       "model_id": "",
       "version_major": 2,
       "version_minor": 0
      },
      "text/plain": [
       "Validation: 0it [00:00, ?it/s]"
      ]
     },
     "metadata": {},
     "output_type": "display_data"
    },
    {
     "name": "stdout",
     "output_type": "stream",
     "text": [
      "вы опять врёте ---> ты лжёшь\n",
      "ты слишком расслаблен ---> ты слишком слишком\n",
      "я всегда готова ---> я всегда время\n",
      "мы остаёмся здесь ---> мы работаем\n",
      "у меня идет ---> у меня аллергия\n",
      "ты идиот ---> ты взрослый\n",
      "он не женат ---> он не\n",
      "он невиновен ---> он без\n",
      "я атеист ---> я честный\n",
      "я иду за ---> я следую за\n",
      "мы с ним ---> он примерно сорока\n",
      "я тот кто ---> я сейчас\n",
      "я вполне счастлива ---> я рад что\n",
      "ты очень грязная ---> ты действительно грязная\n",
      "я в своей ---> я в в\n"
     ]
    },
    {
     "name": "stderr",
     "output_type": "stream",
     "text": [
      "Epoch 27, global step 1148: 'val_loss' reached 2.27482 (best 2.27482), saving model to '/home/somov-od/mashine_translation/runs/tutorial/epoch=27-step=1148-val_loss=2.2748.ckpt' as top 3\n"
     ]
    },
    {
     "data": {
      "application/vnd.jupyter.widget-view+json": {
       "model_id": "",
       "version_major": 2,
       "version_minor": 0
      },
      "text/plain": [
       "Validation: 0it [00:00, ?it/s]"
      ]
     },
     "metadata": {},
     "output_type": "display_data"
    },
    {
     "name": "stdout",
     "output_type": "stream",
     "text": [
      "вы опять врёте ---> ты лжёшь\n",
      "ты слишком расслаблен ---> ты слишком слишком\n",
      "я всегда готова ---> я всегда время\n",
      "мы остаёмся здесь ---> мы несём\n",
      "у меня идет ---> у меня аллергия\n",
      "ты идиот ---> ты взрослый\n",
      "он не женат ---> он не нет\n",
      "он невиновен ---> он помешан\n",
      "я атеист ---> я честный\n",
      "я иду за ---> я следую за\n",
      "мы с ним ---> он примерно твоего\n",
      "я тот кто ---> я сейчас\n",
      "я вполне счастлива ---> я рад что\n",
      "ты очень грязная ---> ты очень одарена\n",
      "я в своей ---> я в в\n"
     ]
    },
    {
     "name": "stderr",
     "output_type": "stream",
     "text": [
      "Epoch 28, global step 1189: 'val_loss' reached 2.27040 (best 2.27040), saving model to '/home/somov-od/mashine_translation/runs/tutorial/epoch=28-step=1189-val_loss=2.2704.ckpt' as top 3\n"
     ]
    },
    {
     "data": {
      "application/vnd.jupyter.widget-view+json": {
       "model_id": "",
       "version_major": 2,
       "version_minor": 0
      },
      "text/plain": [
       "Validation: 0it [00:00, ?it/s]"
      ]
     },
     "metadata": {},
     "output_type": "display_data"
    },
    {
     "name": "stdout",
     "output_type": "stream",
     "text": [
      "вы опять врёте ---> ты лжёшь\n",
      "ты слишком расслаблен ---> ты слишком слишком\n",
      "я всегда готова ---> я всегда время\n",
      "мы остаёмся здесь ---> мы работаем\n",
      "у меня идет ---> у меня аллергия\n",
      "ты идиот ---> ты взрослый\n",
      "он не женат ---> он не нет\n",
      "он невиновен ---> он американец\n",
      "я атеист ---> я честный\n",
      "я иду за ---> я следую за\n",
      "мы с ним ---> он примерно сорока\n",
      "я тот кто ---> я начинаю\n",
      "я вполне счастлива ---> я рад что\n",
      "ты очень грязная ---> ты очень одарена\n",
      "я в своей ---> я в в\n"
     ]
    },
    {
     "name": "stderr",
     "output_type": "stream",
     "text": [
      "Epoch 29, global step 1230: 'val_loss' reached 2.26516 (best 2.26516), saving model to '/home/somov-od/mashine_translation/runs/tutorial/epoch=29-step=1230-val_loss=2.2652.ckpt' as top 3\n"
     ]
    },
    {
     "data": {
      "application/vnd.jupyter.widget-view+json": {
       "model_id": "",
       "version_major": 2,
       "version_minor": 0
      },
      "text/plain": [
       "Validation: 0it [00:00, ?it/s]"
      ]
     },
     "metadata": {},
     "output_type": "display_data"
    },
    {
     "name": "stdout",
     "output_type": "stream",
     "text": [
      "вы опять врёте ---> ты лжёшь\n",
      "ты слишком расслаблен ---> ты слишком слишком\n",
      "я всегда готова ---> я всегда время\n",
      "мы остаёмся здесь ---> мы нас\n",
      "у меня идет ---> у меня кровью\n",
      "ты идиот ---> ты взрослый\n",
      "он не женат ---> он не\n",
      "он невиновен ---> он американец\n",
      "я атеист ---> я честный\n",
      "я иду за ---> я следую за\n",
      "мы с ним ---> он примерно вашего\n",
      "я тот кто ---> я начинаю\n",
      "я вполне счастлива ---> я рад что\n",
      "ты очень грязная ---> ты очень одарена\n",
      "я в своей ---> я в в\n"
     ]
    },
    {
     "name": "stderr",
     "output_type": "stream",
     "text": [
      "Epoch 30, global step 1271: 'val_loss' reached 2.25640 (best 2.25640), saving model to '/home/somov-od/mashine_translation/runs/tutorial/epoch=30-step=1271-val_loss=2.2564.ckpt' as top 3\n"
     ]
    },
    {
     "data": {
      "application/vnd.jupyter.widget-view+json": {
       "model_id": "",
       "version_major": 2,
       "version_minor": 0
      },
      "text/plain": [
       "Validation: 0it [00:00, ?it/s]"
      ]
     },
     "metadata": {},
     "output_type": "display_data"
    },
    {
     "name": "stdout",
     "output_type": "stream",
     "text": [
      "вы опять врёте ---> ты лжёте\n",
      "ты слишком расслаблен ---> ты слишком слишком\n",
      "я всегда готова ---> я всегда время\n",
      "мы остаёмся здесь ---> мы работаем\n",
      "у меня идет ---> у меня аллергия\n",
      "ты идиот ---> ты взрослый\n",
      "он не женат ---> он не\n",
      "он невиновен ---> он американец\n",
      "я атеист ---> я честный\n",
      "я иду за ---> я следую за\n",
      "мы с ним ---> он примерно выходить\n",
      "я тот кто ---> я начинаю\n",
      "я вполне счастлива ---> я рад счастлив\n",
      "ты очень грязная ---> ты очень одарена\n",
      "я в своей ---> я в в\n"
     ]
    },
    {
     "name": "stderr",
     "output_type": "stream",
     "text": [
      "Epoch 31, global step 1312: 'val_loss' reached 2.25525 (best 2.25525), saving model to '/home/somov-od/mashine_translation/runs/tutorial/epoch=31-step=1312-val_loss=2.2552.ckpt' as top 3\n"
     ]
    },
    {
     "data": {
      "application/vnd.jupyter.widget-view+json": {
       "model_id": "",
       "version_major": 2,
       "version_minor": 0
      },
      "text/plain": [
       "Validation: 0it [00:00, ?it/s]"
      ]
     },
     "metadata": {},
     "output_type": "display_data"
    },
    {
     "name": "stdout",
     "output_type": "stream",
     "text": [
      "вы опять врёте ---> ты врёшь\n",
      "ты слишком расслаблен ---> ты слишком слишком\n",
      "я всегда готова ---> я всегда время\n",
      "мы остаёмся здесь ---> мы работаем\n",
      "у меня идет ---> у меня сильное\n",
      "ты идиот ---> ты взрослый\n",
      "он не женат ---> он не\n",
      "он невиновен ---> он сумасшедший\n",
      "я атеист ---> я агент\n",
      "я иду за ---> я следую за\n",
      "мы с ним ---> ему сейчас ему\n",
      "я тот кто ---> я сейчас\n",
      "я вполне счастлива ---> я рад что\n",
      "ты очень грязная ---> ты очень грязный\n",
      "я в своей ---> я в в\n"
     ]
    },
    {
     "name": "stderr",
     "output_type": "stream",
     "text": [
      "Epoch 32, global step 1353: 'val_loss' reached 2.25250 (best 2.25250), saving model to '/home/somov-od/mashine_translation/runs/tutorial/epoch=32-step=1353-val_loss=2.2525.ckpt' as top 3\n"
     ]
    },
    {
     "data": {
      "application/vnd.jupyter.widget-view+json": {
       "model_id": "",
       "version_major": 2,
       "version_minor": 0
      },
      "text/plain": [
       "Validation: 0it [00:00, ?it/s]"
      ]
     },
     "metadata": {},
     "output_type": "display_data"
    },
    {
     "name": "stdout",
     "output_type": "stream",
     "text": [
      "вы опять врёте ---> ты лжёшь\n",
      "ты слишком расслаблен ---> ты слишком слишком\n",
      "я всегда готова ---> я всегда время\n",
      "мы остаёмся здесь ---> мы работаем\n",
      "у меня идет ---> у меня кровь\n",
      "ты идиот ---> ты взрослый\n",
      "он не женат ---> он не\n",
      "он невиновен ---> он оскорблён\n",
      "я атеист ---> я честный\n",
      "я иду за ---> я следую за\n",
      "мы с ним ---> ему сейчас\n",
      "я тот кто ---> я начинаю\n",
      "я вполне счастлива ---> я рад что\n",
      "ты очень грязная ---> ты очень одарена\n",
      "я в своей ---> я в в\n"
     ]
    },
    {
     "name": "stderr",
     "output_type": "stream",
     "text": [
      "Epoch 33, global step 1394: 'val_loss' reached 2.25486 (best 2.25250), saving model to '/home/somov-od/mashine_translation/runs/tutorial/epoch=33-step=1394-val_loss=2.2549.ckpt' as top 3\n"
     ]
    },
    {
     "data": {
      "application/vnd.jupyter.widget-view+json": {
       "model_id": "",
       "version_major": 2,
       "version_minor": 0
      },
      "text/plain": [
       "Validation: 0it [00:00, ?it/s]"
      ]
     },
     "metadata": {},
     "output_type": "display_data"
    },
    {
     "name": "stdout",
     "output_type": "stream",
     "text": [
      "вы опять врёте ---> ты лжёшь\n",
      "ты слишком расслаблен ---> ты слишком слишком\n",
      "я всегда готова ---> я всегда время\n",
      "мы остаёмся здесь ---> мы работаем\n",
      "у меня идет ---> у меня кровью\n",
      "ты идиот ---> ты взрослый\n",
      "он не женат ---> он не\n",
      "он невиновен ---> он оскорблён\n",
      "я атеист ---> я честный\n",
      "я иду за ---> я следую за\n",
      "мы с ним ---> он примерно сорока\n",
      "я тот кто ---> я сейчас\n",
      "я вполне счастлива ---> я рад счастлив\n",
      "ты очень грязная ---> ты очень одарена\n",
      "я в своей ---> я в в\n"
     ]
    },
    {
     "name": "stderr",
     "output_type": "stream",
     "text": [
      "Epoch 34, global step 1435: 'val_loss' was not in top 3\n"
     ]
    },
    {
     "data": {
      "application/vnd.jupyter.widget-view+json": {
       "model_id": "",
       "version_major": 2,
       "version_minor": 0
      },
      "text/plain": [
       "Validation: 0it [00:00, ?it/s]"
      ]
     },
     "metadata": {},
     "output_type": "display_data"
    },
    {
     "name": "stdout",
     "output_type": "stream",
     "text": [
      "вы опять врёте ---> ты лжёшь\n",
      "ты слишком расслаблен ---> ты слишком слишком\n",
      "я всегда готова ---> я всегда время\n",
      "мы остаёмся здесь ---> мы работаем\n",
      "у меня идет ---> у меня кровью\n",
      "ты идиот ---> ты взрослый\n",
      "он не женат ---> он не\n",
      "он невиновен ---> он помешан\n",
      "я атеист ---> я честный\n",
      "я иду за ---> я следую за\n",
      "мы с ним ---> он примерно твоего\n",
      "я тот кто ---> я начинаю\n",
      "я вполне счастлива ---> я рад счастлив\n",
      "ты очень грязная ---> ты очень одарена\n",
      "я в своей ---> я в в\n"
     ]
    },
    {
     "name": "stderr",
     "output_type": "stream",
     "text": [
      "Epoch 35, global step 1476: 'val_loss' was not in top 3\n"
     ]
    },
    {
     "data": {
      "application/vnd.jupyter.widget-view+json": {
       "model_id": "",
       "version_major": 2,
       "version_minor": 0
      },
      "text/plain": [
       "Validation: 0it [00:00, ?it/s]"
      ]
     },
     "metadata": {},
     "output_type": "display_data"
    },
    {
     "name": "stdout",
     "output_type": "stream",
     "text": [
      "вы опять врёте ---> ты лжёшь\n",
      "ты слишком расслаблен ---> ты слишком слишком\n",
      "я всегда готова ---> я всегда время\n",
      "мы остаёмся здесь ---> мы работаем\n",
      "у меня идет ---> у меня кровью\n",
      "ты идиот ---> ты взрослый\n",
      "он не женат ---> он не\n",
      "он невиновен ---> он оскорблён\n",
      "я атеист ---> я честный\n",
      "я иду за ---> я следую за\n",
      "мы с ним ---> он примерно твоего\n",
      "я тот кто ---> я сейчас\n",
      "я вполне счастлива ---> я рад доволен\n",
      "ты очень грязная ---> ты очень одарена\n",
      "я в своей ---> я в в\n"
     ]
    },
    {
     "name": "stderr",
     "output_type": "stream",
     "text": [
      "Epoch 36, global step 1517: 'val_loss' reached 2.25056 (best 2.25056), saving model to '/home/somov-od/mashine_translation/runs/tutorial/epoch=36-step=1517-val_loss=2.2506.ckpt' as top 3\n"
     ]
    },
    {
     "data": {
      "application/vnd.jupyter.widget-view+json": {
       "model_id": "",
       "version_major": 2,
       "version_minor": 0
      },
      "text/plain": [
       "Validation: 0it [00:00, ?it/s]"
      ]
     },
     "metadata": {},
     "output_type": "display_data"
    },
    {
     "name": "stdout",
     "output_type": "stream",
     "text": [
      "вы опять врёте ---> ты лжёте\n",
      "ты слишком расслаблен ---> ты слишком слишком\n",
      "я всегда готова ---> я всегда время\n",
      "мы остаёмся здесь ---> мы работаем\n",
      "у меня идет ---> у меня кровь\n",
      "ты идиот ---> ты взрослый\n",
      "он не женат ---> он не нет\n",
      "он невиновен ---> он бездомный\n",
      "я атеист ---> я честный\n",
      "я иду за ---> я следую за\n",
      "мы с ним ---> он примерно сорока\n",
      "я тот кто ---> я та\n",
      "я вполне счастлива ---> я рад счастлив\n",
      "ты очень грязная ---> ты очень одарена\n",
      "я в своей ---> я в в\n"
     ]
    },
    {
     "name": "stderr",
     "output_type": "stream",
     "text": [
      "Epoch 37, global step 1558: 'val_loss' was not in top 3\n"
     ]
    },
    {
     "data": {
      "application/vnd.jupyter.widget-view+json": {
       "model_id": "",
       "version_major": 2,
       "version_minor": 0
      },
      "text/plain": [
       "Validation: 0it [00:00, ?it/s]"
      ]
     },
     "metadata": {},
     "output_type": "display_data"
    },
    {
     "name": "stdout",
     "output_type": "stream",
     "text": [
      "вы опять врёте ---> ты врёшь\n",
      "ты слишком расслаблен ---> вы слишком слишком\n",
      "я всегда готова ---> я всегда время\n",
      "мы остаёмся здесь ---> мы ответственные\n",
      "у меня идет ---> у меня течёт\n",
      "ты идиот ---> ты взрослый\n",
      "он не женат ---> он не\n",
      "он невиновен ---> он оскорблён\n",
      "я атеист ---> я честный\n",
      "я иду за ---> я следую за\n",
      "мы с ним ---> он примерно выходить\n",
      "я тот кто ---> я начинаю\n",
      "я вполне счастлива ---> я рад доволен\n",
      "ты очень грязная ---> ты очень грязный\n",
      "я в своей ---> я в в\n"
     ]
    },
    {
     "name": "stderr",
     "output_type": "stream",
     "text": [
      "Epoch 38, global step 1599: 'val_loss' reached 2.25395 (best 2.25056), saving model to '/home/somov-od/mashine_translation/runs/tutorial/epoch=38-step=1599-val_loss=2.2539.ckpt' as top 3\n"
     ]
    },
    {
     "data": {
      "application/vnd.jupyter.widget-view+json": {
       "model_id": "",
       "version_major": 2,
       "version_minor": 0
      },
      "text/plain": [
       "Validation: 0it [00:00, ?it/s]"
      ]
     },
     "metadata": {},
     "output_type": "display_data"
    },
    {
     "name": "stdout",
     "output_type": "stream",
     "text": [
      "вы опять врёте ---> ты лжёшь\n",
      "ты слишком расслаблен ---> ты слишком слишком\n",
      "я всегда готова ---> я всегда время\n",
      "мы остаёмся здесь ---> мы работаем\n",
      "у меня идет ---> у меня сильное\n",
      "ты идиот ---> ты взрослый\n",
      "он не женат ---> он не\n",
      "он невиновен ---> он оскорблён\n",
      "я атеист ---> я электрик\n",
      "я иду за ---> я следую за\n",
      "мы с ним ---> он примерно выходить\n",
      "я тот кто ---> я та\n",
      "я вполне счастлива ---> я рад счастлив\n",
      "ты очень грязная ---> ты очень грязный\n",
      "я в своей ---> я в в\n"
     ]
    },
    {
     "name": "stderr",
     "output_type": "stream",
     "text": [
      "Epoch 39, global step 1640: 'val_loss' was not in top 3\n"
     ]
    },
    {
     "data": {
      "application/vnd.jupyter.widget-view+json": {
       "model_id": "",
       "version_major": 2,
       "version_minor": 0
      },
      "text/plain": [
       "Validation: 0it [00:00, ?it/s]"
      ]
     },
     "metadata": {},
     "output_type": "display_data"
    },
    {
     "name": "stdout",
     "output_type": "stream",
     "text": [
      "вы опять врёте ---> ты лжёте врёшь\n",
      "ты слишком расслаблен ---> ты слишком слишком\n",
      "я всегда готова ---> я всегда время\n",
      "мы остаёмся здесь ---> мы работаем\n",
      "у меня идет ---> у меня течёт\n",
      "ты идиот ---> ты взрослый\n",
      "он не женат ---> он не\n",
      "он невиновен ---> он оскорблён\n",
      "я атеист ---> я агент\n",
      "я иду за ---> я следую за\n",
      "мы с ним ---> он примерно сорока\n",
      "я тот кто ---> я та\n",
      "я вполне счастлива ---> я рад счастлив\n",
      "ты очень грязная ---> ты очень одарена\n",
      "я в своей ---> я в в\n"
     ]
    },
    {
     "name": "stderr",
     "output_type": "stream",
     "text": [
      "Epoch 40, global step 1681: 'val_loss' was not in top 3\n"
     ]
    },
    {
     "data": {
      "application/vnd.jupyter.widget-view+json": {
       "model_id": "",
       "version_major": 2,
       "version_minor": 0
      },
      "text/plain": [
       "Validation: 0it [00:00, ?it/s]"
      ]
     },
     "metadata": {},
     "output_type": "display_data"
    },
    {
     "name": "stdout",
     "output_type": "stream",
     "text": [
      "вы опять врёте ---> ты лжёте врёшь\n",
      "ты слишком расслаблен ---> ты слишком слишком\n",
      "я всегда готова ---> я всегда время\n",
      "мы остаёмся здесь ---> мы работаем\n",
      "у меня идет ---> у меня сильное\n",
      "ты идиот ---> ты взрослый\n",
      "он не женат ---> он не\n",
      "он невиновен ---> он оскорблён\n",
      "я атеист ---> я честный\n",
      "я иду за ---> я следую за\n",
      "мы с ним ---> он примерно твоего\n",
      "я тот кто ---> я та\n",
      "я вполне счастлива ---> я рад за\n",
      "ты очень грязная ---> ты действительно одарена\n",
      "я в своей ---> я в в\n"
     ]
    },
    {
     "name": "stderr",
     "output_type": "stream",
     "text": [
      "Epoch 41, global step 1722: 'val_loss' was not in top 3\n"
     ]
    },
    {
     "data": {
      "application/vnd.jupyter.widget-view+json": {
       "model_id": "",
       "version_major": 2,
       "version_minor": 0
      },
      "text/plain": [
       "Validation: 0it [00:00, ?it/s]"
      ]
     },
     "metadata": {},
     "output_type": "display_data"
    },
    {
     "name": "stdout",
     "output_type": "stream",
     "text": [
      "вы опять врёте ---> ты лжёте\n",
      "ты слишком расслаблен ---> ты слишком слишком\n",
      "я всегда готова ---> я всегда время\n",
      "мы остаёмся здесь ---> мы несём\n",
      "у меня идет ---> у меня кровь\n",
      "ты идиот ---> ты взрослый\n",
      "он не женат ---> он не\n",
      "он невиновен ---> он оскорблён\n",
      "я атеист ---> я честный\n",
      "я иду за ---> я следую за\n",
      "мы с ним ---> он примерно вашего\n",
      "я тот кто ---> я та\n",
      "я вполне счастлива ---> я рад доволен\n",
      "ты очень грязная ---> ты действительно одарена\n",
      "я в своей ---> я в в\n"
     ]
    },
    {
     "name": "stderr",
     "output_type": "stream",
     "text": [
      "Epoch 42, global step 1763: 'val_loss' was not in top 3\n"
     ]
    },
    {
     "data": {
      "application/vnd.jupyter.widget-view+json": {
       "model_id": "",
       "version_major": 2,
       "version_minor": 0
      },
      "text/plain": [
       "Validation: 0it [00:00, ?it/s]"
      ]
     },
     "metadata": {},
     "output_type": "display_data"
    },
    {
     "name": "stdout",
     "output_type": "stream",
     "text": [
      "вы опять врёте ---> ты лжёшь\n",
      "ты слишком расслаблен ---> ты слишком слишком\n",
      "я всегда готова ---> я всегда время\n",
      "мы остаёмся здесь ---> мы чувствительные\n",
      "у меня идет ---> у меня сильное\n",
      "ты идиот ---> ты взрослый\n",
      "он не женат ---> он не\n",
      "он невиновен ---> он оскорблён\n",
      "я атеист ---> я агент\n",
      "я иду за ---> я следую за\n",
      "мы с ним ---> он примерно выходить\n",
      "я тот кто ---> я та\n",
      "я вполне счастлива ---> я рад доволен\n",
      "ты очень грязная ---> ты действительно одарена\n",
      "я в своей ---> я в в\n"
     ]
    },
    {
     "name": "stderr",
     "output_type": "stream",
     "text": [
      "Epoch 43, global step 1804: 'val_loss' was not in top 3\n"
     ]
    },
    {
     "data": {
      "application/vnd.jupyter.widget-view+json": {
       "model_id": "",
       "version_major": 2,
       "version_minor": 0
      },
      "text/plain": [
       "Validation: 0it [00:00, ?it/s]"
      ]
     },
     "metadata": {},
     "output_type": "display_data"
    },
    {
     "name": "stdout",
     "output_type": "stream",
     "text": [
      "вы опять врёте ---> ты лжёте\n",
      "ты слишком расслаблен ---> ты слишком слишком\n",
      "я всегда готова ---> я всегда время\n",
      "мы остаёмся здесь ---> мы чувствительные\n",
      "у меня идет ---> у меня кровь\n",
      "ты идиот ---> ты взрослый\n",
      "он не женат ---> он не\n",
      "он невиновен ---> он оскорблён\n",
      "я атеист ---> я честный\n",
      "я иду за ---> я следую за\n",
      "мы с ним ---> он примерно выходить\n",
      "я тот кто ---> я та\n",
      "я вполне счастлива ---> я рад доволен\n",
      "ты очень грязная ---> ты действительно одарена\n",
      "я в своей ---> я в в\n"
     ]
    },
    {
     "name": "stderr",
     "output_type": "stream",
     "text": [
      "Epoch 44, global step 1845: 'val_loss' was not in top 3\n"
     ]
    },
    {
     "data": {
      "application/vnd.jupyter.widget-view+json": {
       "model_id": "",
       "version_major": 2,
       "version_minor": 0
      },
      "text/plain": [
       "Validation: 0it [00:00, ?it/s]"
      ]
     },
     "metadata": {},
     "output_type": "display_data"
    },
    {
     "name": "stdout",
     "output_type": "stream",
     "text": [
      "вы опять врёте ---> ты лжёте врёшь\n",
      "ты слишком расслаблен ---> ты слишком слишком\n",
      "я всегда готова ---> я всегда очень\n",
      "мы остаёмся здесь ---> мы вместе\n",
      "у меня идет ---> у меня течёт\n",
      "ты идиот ---> ты взрослый\n",
      "он не женат ---> он не\n",
      "он невиновен ---> он оскорблён\n",
      "я атеист ---> я взрослый\n",
      "я иду за ---> я следую за\n",
      "мы с ним ---> ему примерно сорока\n",
      "я тот кто ---> я та\n",
      "я вполне счастлива ---> я рад доволен\n",
      "ты очень грязная ---> ты очень одарена\n",
      "я в своей ---> я в в\n"
     ]
    },
    {
     "name": "stderr",
     "output_type": "stream",
     "text": [
      "Epoch 45, global step 1886: 'val_loss' was not in top 3\n"
     ]
    },
    {
     "data": {
      "application/vnd.jupyter.widget-view+json": {
       "model_id": "",
       "version_major": 2,
       "version_minor": 0
      },
      "text/plain": [
       "Validation: 0it [00:00, ?it/s]"
      ]
     },
     "metadata": {},
     "output_type": "display_data"
    },
    {
     "name": "stdout",
     "output_type": "stream",
     "text": [
      "вы опять врёте ---> ты врёшь\n",
      "ты слишком расслаблен ---> ты слишком слишком\n",
      "я всегда готова ---> я всегда время\n",
      "мы остаёмся здесь ---> мы чувствительные\n",
      "у меня идет ---> у меня сильное\n",
      "ты идиот ---> ты взрослый\n",
      "он не женат ---> он не\n",
      "он невиновен ---> он оскорблён\n",
      "я атеист ---> я взрослый\n",
      "я иду за ---> я следую за\n",
      "мы с ним ---> он примерно выходить\n",
      "я тот кто ---> я та\n",
      "я вполне счастлива ---> я рад счастлив\n",
      "ты очень грязная ---> ты действительно одарена\n",
      "я в своей ---> я в\n"
     ]
    },
    {
     "name": "stderr",
     "output_type": "stream",
     "text": [
      "Epoch 46, global step 1927: 'val_loss' was not in top 3\n"
     ]
    },
    {
     "data": {
      "application/vnd.jupyter.widget-view+json": {
       "model_id": "",
       "version_major": 2,
       "version_minor": 0
      },
      "text/plain": [
       "Validation: 0it [00:00, ?it/s]"
      ]
     },
     "metadata": {},
     "output_type": "display_data"
    },
    {
     "name": "stdout",
     "output_type": "stream",
     "text": [
      "вы опять врёте ---> ты лжёшь\n",
      "ты слишком расслаблен ---> вы слишком слишком\n",
      "я всегда готова ---> я всегда время\n",
      "мы остаёмся здесь ---> мы чувствительные\n",
      "у меня идет ---> у меня кровь\n",
      "ты идиот ---> ты взрослый\n",
      "он не женат ---> он не\n",
      "он невиновен ---> он оскорблён\n",
      "я атеист ---> я честный\n",
      "я иду за ---> я следую за\n",
      "мы с ним ---> он примерно вашего\n",
      "я тот кто ---> я та\n",
      "я вполне счастлива ---> я рад доволен\n",
      "ты очень грязная ---> ты действительно одарена\n",
      "я в своей ---> я в в\n"
     ]
    },
    {
     "name": "stderr",
     "output_type": "stream",
     "text": [
      "Epoch 47, global step 1968: 'val_loss' was not in top 3\n"
     ]
    },
    {
     "data": {
      "application/vnd.jupyter.widget-view+json": {
       "model_id": "",
       "version_major": 2,
       "version_minor": 0
      },
      "text/plain": [
       "Validation: 0it [00:00, ?it/s]"
      ]
     },
     "metadata": {},
     "output_type": "display_data"
    },
    {
     "name": "stdout",
     "output_type": "stream",
     "text": [
      "вы опять врёте ---> ты лжёте\n",
      "ты слишком расслаблен ---> ты слишком слишком\n",
      "я всегда готова ---> я всегда время\n",
      "мы остаёмся здесь ---> мы чудаки\n",
      "у меня идет ---> у меня сильное\n",
      "ты идиот ---> ты взрослый\n",
      "он не женат ---> он не\n",
      "он невиновен ---> он оскорблён\n",
      "я атеист ---> я агент\n",
      "я иду за ---> я следую за\n",
      "мы с ним ---> ему примерно сорока\n",
      "я тот кто ---> я та\n",
      "я вполне счастлива ---> я рад счастлив\n",
      "ты очень грязная ---> ты очень одарена\n",
      "я в своей ---> я в в\n"
     ]
    },
    {
     "name": "stderr",
     "output_type": "stream",
     "text": [
      "Epoch 48, global step 2009: 'val_loss' was not in top 3\n"
     ]
    },
    {
     "data": {
      "application/vnd.jupyter.widget-view+json": {
       "model_id": "",
       "version_major": 2,
       "version_minor": 0
      },
      "text/plain": [
       "Validation: 0it [00:00, ?it/s]"
      ]
     },
     "metadata": {},
     "output_type": "display_data"
    },
    {
     "name": "stdout",
     "output_type": "stream",
     "text": [
      "вы опять врёте ---> ты лжёте\n",
      "ты слишком расслаблен ---> ты слишком доверчивы\n",
      "я всегда готова ---> я всегда время\n",
      "мы остаёмся здесь ---> мы кричим\n",
      "у меня идет ---> у меня сильное\n",
      "ты идиот ---> ты взрослый\n",
      "он не женат ---> он не дома\n",
      "он невиновен ---> он бездомный и\n",
      "я атеист ---> я взрослый\n",
      "я иду за ---> я следую за\n",
      "мы с ним ---> он примерно твоего\n",
      "я тот кто ---> я та кто\n",
      "я вполне счастлива ---> я рад за\n",
      "ты очень грязная ---> ты действительно одарена\n",
      "я в своей ---> я в в\n"
     ]
    },
    {
     "name": "stderr",
     "output_type": "stream",
     "text": [
      "Epoch 49, global step 2050: 'val_loss' was not in top 3\n",
      "`Trainer.fit` stopped: `max_epochs=50` reached.\n"
     ]
    }
   ],
   "source": [
    "trainer.fit(model, dm)"
   ]
  },
  {
   "cell_type": "markdown",
   "metadata": {},
   "source": [
    "Now you can see tensorboard logs in two ways: launch tensorboard extension in jupyter notebook or use CLI method.\n",
    "\n",
    "CLI:\n",
    "1. Tap `tensorboard --logdir=./lightning_logs --port=6006`\n",
    "2. Forward selected port in the ssh connection if you are working remote else just open `localhost:6006` in the browser\n",
    "\n",
    "\n",
    "Jupyter:\n",
    "1. Load extension: `%load_ext tensorboard`\n",
    "2. Launch built-in tensorboard: `%tensorboard --logdir=./lightning_logs`"
   ]
  },
  {
   "cell_type": "code",
   "execution_count": 12,
   "metadata": {},
   "outputs": [
    {
     "name": "stdout",
     "output_type": "stream",
     "text": [
      "The tensorboardX module is not an IPython extension.\n"
     ]
    },
    {
     "name": "stderr",
     "output_type": "stream",
     "text": [
      "UsageError: Line magic function `%tensorboard` not found.\n"
     ]
    }
   ],
   "source": [
    "%load_ext tensorboardX\n",
    "%tensorboard --logdir=./lightning_logs"
   ]
  },
  {
   "cell_type": "markdown",
   "metadata": {},
   "source": [
    "# Hints\n",
    "\n",
    "#### Load model from checkpoint\n",
    "Using `self.save_hyperparameters` in `__init__` body of `pl.LightningModule` allows to load model in this way:\n",
    "```python\n",
    "import pytorch_lightning as pl\n",
    "model = Seq2SeqRNN.load_from_checkpoint('checkpoint.ckpt')\n",
    "```\n",
    "\n",
    "Or you can load checkpoint in natural pytorch way:\n",
    "```python\n",
    "model = Seq2SeqRNN(*args, **kwargs)\n",
    "model.load_state_dict(torch.load('checkpoint.ckpt')['state_dict'])\n",
    "```\n",
    "\n",
    "#### Add custom metrics to logger\n",
    "https://lightning.ai/docs/pytorch/stable/extensions/logging.html\n",
    "\n",
    "\n",
    "#### Enable grad accumulation\n",
    "In this example accumulation will be the following: \n",
    "1. from 0 to 15th epoch accumulate 4 batches\n",
    "2. from 15th to 25th epoch accumulate 2 batches\n",
    "3. from 25th epoch accumulate 1 batch\n",
    "\n",
    "```python\n",
    "from pytorch_lightning.callbacks import GradientAccumulationScheduler\n",
    "\n",
    "accumulator = GradientAccumulationScheduler(scheduling={0: 4, 15: 2, 25: 1})\n",
    "trainer = pl.Trainer(\n",
    "    ...\n",
    "    callbacks=[..., accumulator],\n",
    "    ...\n",
    ")\n",
    "```\n",
    "\n",
    "#### Configure learning rate scheduler\n",
    "\n",
    "```python\n",
    "def configure_optimizers(self):\n",
    "    optimizer = torch.optim.Adam(self.parameters(), lr=self.lr)\n",
    "    lr_scheduler = torch.optim.lr_scheduler.ReduceLROnPlateau(\n",
    "        optimizer,\n",
    "        mode='min',\n",
    "        factor=0.1,\n",
    "        patience=0,\n",
    "        threshold=1e-2,\n",
    "        threshold_mode='rel',\n",
    "        cooldown=0,\n",
    "        min_lr=0,\n",
    "        eps=1e-09,\n",
    "        verbose=True\n",
    "    )\n",
    "    lr_dict = {\n",
    "        \"scheduler\": lr_scheduler,\n",
    "        \"interval\": \"epoch\",\n",
    "        \"frequency\": 1,\n",
    "        \"monitor\": \"val_loss\"\n",
    "    }\n",
    "    return [optimizer], [lr_dict]\n",
    "```\n",
    "\n",
    "#### Other logger: WandB\n",
    "You can use famous weights&biases logger which is natively supports in pytorch-lightning:\n",
    "https://lightning.ai/docs/pytorch/stable/api/lightning.pytorch.loggers.wandb.html#module-lightning.pytorch.loggers.wandb"
   ]
  }
 ],
 "metadata": {
  "kernelspec": {
   "display_name": "nmt_venv",
   "language": "python",
   "name": "nmt_venv"
  },
  "language_info": {
   "codemirror_mode": {
    "name": "ipython",
    "version": 3
   },
   "file_extension": ".py",
   "mimetype": "text/x-python",
   "name": "python",
   "nbconvert_exporter": "python",
   "pygments_lexer": "ipython3",
   "version": "3.8.10"
  }
 },
 "nbformat": 4,
 "nbformat_minor": 2
}
