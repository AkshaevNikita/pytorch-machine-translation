{
 "cells": [
  {
   "attachments": {},
   "cell_type": "markdown",
   "metadata": {},
   "source": [
    "# Домашнее задание. \n",
    "\n",
    "\n",
    "Домашнее задание с датасетом из лекции(русский-английский). \n",
    "\n",
    "*Для последующего обучения взять более длинные примеры перевода с минимальной длинной предложений на обоих языках от 10 слов. Фильтр с префиксами убрать.*"
   ]
  },
  {
   "cell_type": "markdown",
   "metadata": {},
   "source": []
  },
  {
   "attachments": {},
   "cell_type": "markdown",
   "metadata": {},
   "source": [
    "1. Обучить модель RNN на предложениях с увеличенным контекстом до желаемого уровня (критерий остановки на ваш выбор - количество эпох, отличие ошибки и тд) - до выхода на плато обучать не нужно.\n",
    "\n",
    "**2 балла**"
   ]
  },
  {
   "cell_type": "markdown",
   "metadata": {},
   "source": []
  },
  {
   "attachments": {},
   "cell_type": "markdown",
   "metadata": {},
   "source": [
    "2. Реализовать модель машинного перевода с трансформерами вместо рекуррентных моделей. Можно использовать 1 слой трансформера на этапе кодирования и 1 на этапе декодирования. Обучить с таким же критерием остановки модель RNN, как и в пункте 2 на тех же данных.  \n",
    "\n",
    "**7 баллов**"
   ]
  },
  {
   "cell_type": "markdown",
   "metadata": {},
   "source": []
  },
  {
   "attachments": {},
   "cell_type": "markdown",
   "metadata": {},
   "source": [
    "3. Сравнить 2 модели(RNN vs Transformers) по скорости сходимости и достигнутому качеству. Оформить выводы по процессу и результату обучения. \n",
    "\n",
    "**3 балла**"
   ]
  },
  {
   "attachments": {},
   "cell_type": "markdown",
   "metadata": {},
   "source": [
    "*Ваши выводы по качеству двух моделей - скорость сходимости, качество обучения, выбор LR и тд.*"
   ]
  },
  {
   "cell_type": "markdown",
   "metadata": {},
   "source": []
  },
  {
   "attachments": {},
   "cell_type": "markdown",
   "metadata": {},
   "source": [
    "4. Добавить в процесс обучения модели NMT на трансформерах  teacher forcing. Сравнить итоговое качество c моделью из пункта **3**. Оформить выводы по результату. \n",
    "\n",
    "**3 балла**"
   ]
  },
  {
   "attachments": {},
   "cell_type": "markdown",
   "metadata": {},
   "source": [
    "*Ваши выводы по добавлению teacher forcing. Код можно добавить в процесс обучения модели на трансформерах.*"
   ]
  },
  {
   "cell_type": "markdown",
   "metadata": {},
   "source": []
  },
  {
   "attachments": {},
   "cell_type": "markdown",
   "metadata": {},
   "source": [
    "5. Для улучшения качества предсказания, реализуйте beam search для b = 3. Как улучшится качество перевода BLEU с добавлением этого метода? Оформить выводы по результату. \n",
    "\n",
    "**4 балла**"
   ]
  },
  {
   "attachments": {},
   "cell_type": "markdown",
   "metadata": {},
   "source": [
    "*Ваши выводы по предсказанию с помощью beam search.*"
   ]
  },
  {
   "cell_type": "markdown",
   "metadata": {},
   "source": []
  },
  {
   "cell_type": "markdown",
   "metadata": {},
   "source": []
  }
 ],
 "metadata": {
  "language_info": {
   "name": "python"
  },
  "orig_nbformat": 4
 },
 "nbformat": 4,
 "nbformat_minor": 2
}
